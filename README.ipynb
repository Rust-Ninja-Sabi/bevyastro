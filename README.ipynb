{
 "cells": [
  {
   "cell_type": "markdown",
   "id": "70be1907",
   "metadata": {},
   "source": [
    "# rust-bevyastro"
   ]
  },
  {
   "cell_type": "markdown",
   "id": "a7b52781-058a-4f1f-9d4d-e733dd129a7a",
   "metadata": {},
   "source": [
    "A game with rust(https://www.rust-lang.org) and the bevy framework(https://bevyengine.org). \n",
    "\n",
    "Inspired by class space games\n",
    "    \n",
    "Thanks to Kenney https://www.kenney.nl for the assets."
   ]
  },
  {
   "cell_type": "markdown",
   "id": "92eac7b7",
   "metadata": {},
   "source": [
    "## 1. Step _ moving ship"
   ]
  },
  {
   "cell_type": "markdown",
   "id": "5fc54729",
   "metadata": {},
   "source": [
    "<img src=\"img/step1.gif\" width=\"256\" align=\"left\"><br><br><br><br><br><br><br><br>"
   ]
  },
  {
   "cell_type": "markdown",
   "id": "81121b89",
   "metadata": {},
   "source": [
    "## 2. Step _ moving asteriods"
   ]
  },
  {
   "cell_type": "markdown",
   "id": "1d056d9e",
   "metadata": {},
   "source": [
    "<img src=\"img/step2.gif\" width=\"256\" align=\"left\"><br><br><br><br><br><br><br><br>"
   ]
  },
  {
   "cell_type": "markdown",
   "id": "5ac30e49",
   "metadata": {},
   "source": [
    "## 3. Step _ moving laser"
   ]
  },
  {
   "cell_type": "markdown",
   "id": "12b8a6f2",
   "metadata": {},
   "source": [
    "<img src=\"img/step3.gif\" width=\"256\" align=\"left\"><br><br><br><br><br><br><br><br>"
   ]
  },
  {
   "cell_type": "markdown",
   "id": "6e36574d",
   "metadata": {},
   "source": [
    "## 4. Step _ colliding laser with asteroid"
   ]
  },
  {
   "cell_type": "markdown",
   "id": "c53706c1",
   "metadata": {},
   "source": [
    "<img src=\"img/step4.gif\" width=\"256\" align=\"left\"><br><br><br><br><br><br><br><br>"
   ]
  },
  {
   "cell_type": "code",
   "execution_count": null,
   "id": "e0bff79d",
   "metadata": {},
   "outputs": [],
   "source": []
  }
 ],
 "metadata": {
  "kernelspec": {
   "display_name": "Rust",
   "language": "rust",
   "name": "rust"
  },
  "language_info": {
   "codemirror_mode": "rust",
   "file_extension": ".rs",
   "mimetype": "text/rust",
   "name": "Rust",
   "pygment_lexer": "rust",
   "version": ""
  }
 },
 "nbformat": 4,
 "nbformat_minor": 5
}
